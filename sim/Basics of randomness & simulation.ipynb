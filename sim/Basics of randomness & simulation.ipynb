{
 "cells": [
  {
   "cell_type": "markdown",
   "metadata": {},
   "source": [
    "## Poisson random variable\n",
    "The numpy.random module also has a number of useful probability distributions for both discrete and continuous random variables. In this exercise, you will learn how to draw samples from a probability distribution.\n",
    "\n",
    "In particular, you will draw samples from a very important discrete probability distribution, the Poisson distribution, which is typically used for modeling the average rate at which events occur.\n",
    "\n",
    "Following the exercise, you should be able to apply these steps to any of the probability distributions found in numpy.random. In addition, you will also see how the sample mean changes as we draw more samples from a distribution."
   ]
  },
  {
   "cell_type": "code",
   "execution_count": 2,
   "metadata": {},
   "outputs": [
    {
     "name": "stdout",
     "output_type": "stream",
     "text": [
      "|Lambda - sample mean| with 3 samples is 0.33333333333333304 and with 1000 samples is 0.07699999999999996. \n"
     ]
    }
   ],
   "source": [
    "import numpy as np\n",
    "\n",
    "\n",
    "# Initialize seed and parameters\n",
    "np.random.seed(123) \n",
    "lam, size_1, size_2 = 5, 3, 1000  \n",
    "\n",
    "# Draw samples & calculate absolute difference between lambda and sample mean\n",
    "samples_1 = np.random.poisson(lam, size_1)\n",
    "samples_2 = np.random.poisson(lam, size_2)\n",
    "answer_1 = abs(np.mean(samples_1) - lam)\n",
    "answer_2 = abs(np.mean(samples_2) - lam) \n",
    "\n",
    "print(\"|Lambda - sample mean| with {} samples is {} and with {} samples is {}. \".format(size_1, answer_1, size_2, answer_2))"
   ]
  },
  {
   "cell_type": "markdown",
   "metadata": {},
   "source": [
    "## Shuffling a deck of cards\n",
    "Often times we are interested in randomizing the order of a set of items. Consider a game of cards where you first shuffle the deck of cards or a game of scrabble where the letters are first mixed in a bag. As the final exercise of this section, you will learn another useful function - np.random.shuffle(). This function allows you to randomly shuffle a sequence in place. At the end of this exercise, you will know how to shuffle a deck of cards or any sequence of items.\n",
    "\n",
    "Examine deck_of_cards in the shell."
   ]
  },
  {
   "cell_type": "code",
   "execution_count": 5,
   "metadata": {},
   "outputs": [
    {
     "name": "stdout",
     "output_type": "stream",
     "text": [
      "[('Spade', 11), ('Heart', 10), ('Diamond', 1)]\n"
     ]
    }
   ],
   "source": [
    "from data.chap1_data import deck_of_cards\n",
    "\n",
    "# Shuffle the deck\n",
    "np.random.shuffle(deck_of_cards)\n",
    "\n",
    "# Print out the top three cards\n",
    "card_choices_after_shuffle = deck_of_cards[:3]\n",
    "print(card_choices_after_shuffle)"
   ]
  },
  {
   "cell_type": "code",
   "execution_count": 4,
   "metadata": {},
   "outputs": [
    {
     "data": {
      "text/plain": [
       "[('Heart', 0),\n",
       " ('Heart', 1),\n",
       " ('Heart', 2),\n",
       " ('Heart', 3),\n",
       " ('Heart', 4),\n",
       " ('Heart', 5),\n",
       " ('Heart', 6),\n",
       " ('Heart', 7),\n",
       " ('Heart', 8),\n",
       " ('Heart', 9),\n",
       " ('Heart', 10),\n",
       " ('Heart', 11),\n",
       " ('Heart', 12),\n",
       " ('Club', 0),\n",
       " ('Club', 1),\n",
       " ('Club', 2),\n",
       " ('Club', 3),\n",
       " ('Club', 4),\n",
       " ('Club', 5),\n",
       " ('Club', 6),\n",
       " ('Club', 7),\n",
       " ('Club', 8),\n",
       " ('Club', 9),\n",
       " ('Club', 10),\n",
       " ('Club', 11),\n",
       " ('Club', 12),\n",
       " ('Spade', 0),\n",
       " ('Spade', 1),\n",
       " ('Spade', 2),\n",
       " ('Spade', 3),\n",
       " ('Spade', 4),\n",
       " ('Spade', 5),\n",
       " ('Spade', 6),\n",
       " ('Spade', 7),\n",
       " ('Spade', 8),\n",
       " ('Spade', 9),\n",
       " ('Spade', 10),\n",
       " ('Spade', 11),\n",
       " ('Spade', 12),\n",
       " ('Diamond', 0),\n",
       " ('Diamond', 1),\n",
       " ('Diamond', 2),\n",
       " ('Diamond', 3),\n",
       " ('Diamond', 4),\n",
       " ('Diamond', 5),\n",
       " ('Diamond', 6),\n",
       " ('Diamond', 7),\n",
       " ('Diamond', 8),\n",
       " ('Diamond', 9),\n",
       " ('Diamond', 10),\n",
       " ('Diamond', 11),\n",
       " ('Diamond', 12)]"
      ]
     },
     "execution_count": 4,
     "metadata": {},
     "output_type": "execute_result"
    }
   ],
   "source": []
  },
  {
   "cell_type": "code",
   "execution_count": null,
   "metadata": {},
   "outputs": [],
   "source": []
  }
 ],
 "metadata": {
  "kernelspec": {
   "display_name": "Python 3",
   "language": "python",
   "name": "python3"
  },
  "language_info": {
   "codemirror_mode": {
    "name": "ipython",
    "version": 3
   },
   "file_extension": ".py",
   "mimetype": "text/x-python",
   "name": "python",
   "nbconvert_exporter": "python",
   "pygments_lexer": "ipython3",
   "version": "3.7.2"
  }
 },
 "nbformat": 4,
 "nbformat_minor": 2
}
