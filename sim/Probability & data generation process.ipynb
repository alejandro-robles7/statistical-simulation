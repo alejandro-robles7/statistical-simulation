{
 "cells": [
  {
   "cell_type": "markdown",
   "metadata": {},
   "source": [
    "# Probability & data generation process\n",
    "\n",
    "This chapter provides a basic introduction to probability concepts and a hands-on understanding of the data generating process. We'll look at a number of examples of modeling the data generating process and will conclude with modeling an eCommerce advertising simulation."
   ]
  },
  {
   "cell_type": "markdown",
   "metadata": {},
   "source": [
    "## Using Simulation for Probability Estimation\n",
    "Steps for Estimating Probability:\n",
    "1. Construct sample space or population.\n",
    "2. Determine how to simulate one outcome.\n",
    "3. Determine rule for success.\n",
    "4. Sample repeatedly and count successes.\n",
    "5. Calculate frequency of successes as an estimate of probability."
   ]
  },
  {
   "cell_type": "markdown",
   "metadata": {},
   "source": [
    "## Queen and spade\n",
    "\n",
    "In this example, you'll use the generalized probability formula P(A∪B)=P(A)+P(B)−P(A∩B) to calculate the probability of two events. Consider a deck of cards (13 cards x 4 suites = 52 cards in total). One card is drawn at random. What is the probability of getting a queen or a spade? Here event A is the card being a queen and event B is the card being a spade. Think carefully about whether the two events have anything in common.\n",
    "\n",
    "P(A∪B)=P(A)+P(B)−P(A∩B)\n",
    "= $\\frac{4}{52}$ + $\\frac{1}{4}$ - $\\frac{1}{52}$\n",
    "= $\\frac{16}{52}$ "
   ]
  },
  {
   "cell_type": "markdown",
   "metadata": {},
   "source": [
    "## Two of a kind\n",
    "Now let's use simulation to estimate probabilities. Suppose you've been invited to a game of poker at your friend's home. In this variation of the game, you are dealt five cards and the player with the better hand wins. You will use a simulation to estimate the probabilities of getting certain hands. Let's work on estimating the probability of getting at least two of a kind. Two of a kind is when you get two cards of different suites but having the same numeric value (e.g., 2 of hearts, 2 of spades, and 3 other cards)."
   ]
  },
  {
   "cell_type": "code",
   "execution_count": 1,
   "metadata": {},
   "outputs": [
    {
     "name": "stdout",
     "output_type": "stream",
     "text": [
      "Probability of seeing at least two of a kind = 0.4952 \n"
     ]
    }
   ],
   "source": [
    "import numpy as np\n",
    "from data.chap1_data import deck_of_cards\n",
    "\n",
    "# Initialize seed and parameters\n",
    "np.random.seed(123)\n",
    "\n",
    "# Shuffle deck & count card occurrences in the hand\n",
    "n_sims, two_kind = 10000, 0\n",
    "for i in range(n_sims):\n",
    "    np.random.shuffle(deck_of_cards)\n",
    "    hand, cards_in_hand = deck_of_cards[0:5], {}\n",
    "    for card in hand:\n",
    "        # Use .get() method on cards_in_hand\n",
    "        cards_in_hand[card[1]] = cards_in_hand.get(card[1], 0) + 1\n",
    "    \n",
    "    # Condition for getting at least 2 of a kind\n",
    "    highest_card = max(cards_in_hand.values())\n",
    "    if highest_card>=2: \n",
    "        two_kind += 1\n",
    "\n",
    "print(\"Probability of seeing at least two of a kind = {} \".format(two_kind/n_sims))"
   ]
  },
  {
   "cell_type": "markdown",
   "metadata": {},
   "source": [
    "## Game of thirteen\n",
    "A famous French mathematician Pierre Raymond De Montmart, who was known for his work in combinatorics, proposed a simple game called as Game of Thirteen. You have a deck of 13 cards, each numbered from 1 through 13. Shuffle this deck and draw cards one by one. A coincidence is when the number on the card matches the order in which the card is drawn. For instance, if the 5th card you draw happens to be a 5, it's a coincidence. You win the game if you get through all the cards without any coincidences. Let's calculate the probability of winning at this game using simulation."
   ]
  },
  {
   "cell_type": "code",
   "execution_count": 2,
   "metadata": {},
   "outputs": [
    {
     "name": "stdout",
     "output_type": "stream",
     "text": [
      "Probability of winning = 0.3578\n"
     ]
    }
   ],
   "source": [
    "# Pre-set constant variables\n",
    "deck, sims, coincidences = np.arange(1, 14), 10000, 0\n",
    "\n",
    "for _ in range(sims):\n",
    "    # Draw all the cards without replacement to simulate one game\n",
    "    draw = np.random.choice(deck, size=deck.size, replace=False)\n",
    "    # Check if there are any coincidences\n",
    "    coincidence = (draw == list(np.arange(1, 14))).any()\n",
    "    if coincidence == False: \n",
    "        coincidences += 1\n",
    "\n",
    "# Calculate probability of winning\n",
    "prob_of_winning = coincidences / sims\n",
    "print(\"Probability of winning = {}\".format(prob_of_winning))"
   ]
  },
  {
   "cell_type": "markdown",
   "metadata": {},
   "source": [
    "## The conditional urn\n",
    "As we've learned, conditional probability is defined as the probability of an event given another event. To illustrate this concept, let's turn to an urn problem.\n",
    "\n",
    "We have an urn that contains 7 white and 6 black balls. Four balls are drawn at random. We'd like to know the probability that the first and third balls are white, while the second and the fourth balls are black.\n",
    "\n",
    "Upon completion, you will learn to manipulate simulations to calculate simple conditional probabilities."
   ]
  },
  {
   "cell_type": "code",
   "execution_count": 3,
   "metadata": {},
   "outputs": [
    {
     "name": "stdout",
     "output_type": "stream",
     "text": [
      "Probability of success = 0.0732\n"
     ]
    }
   ],
   "source": [
    "# Initialize success, sims and urn\n",
    "success, sims = 0, 5000\n",
    "urn = ['w'] * 7 + ['b'] * 6\n",
    "\n",
    "for _ in range(sims):\n",
    "    # Draw 4 balls without replacement\n",
    "    draw = np.random.choice(urn, replace=False, size=4)\n",
    "    # Count the number of successes\n",
    "    if draw[0] == 'w' and draw[2] == 'w' and draw[1] == 'b' and draw[3] == 'b' : \n",
    "        success +=1\n",
    "\n",
    "print(\"Probability of success = {}\".format(success/sims))"
   ]
  },
  {
   "cell_type": "markdown",
   "metadata": {},
   "source": [
    "## Birthday problem\n",
    "Now we'll use simulation to solve a famous probability puzzle - the birthday problem. It sounds quite straightforward - How many people do you need in a room to ensure at least a 50% chance that two of them share the same birthday?\n",
    "\n",
    "With 366 people in a 365-day year, we are 100% sure that at least two have the same birthday, but we only need to be 50% sure. Simulation gives us an elegant way of solving this problem."
   ]
  },
  {
   "cell_type": "code",
   "execution_count": 4,
   "metadata": {},
   "outputs": [],
   "source": [
    "# Draw a sample of birthdays & check if each birthday is unique\n",
    "days = np.arange(1,366)\n",
    "people = 2\n",
    "\n",
    "def birthday_sim(people):\n",
    "    sims, unique_birthdays = 2000, 0 \n",
    "    for _ in range(sims):\n",
    "        draw = np.random.choice(days, size=people, replace=True)\n",
    "        if len(draw) == len(set(draw)): \n",
    "            unique_birthdays += 1\n",
    "    out = 1 - unique_birthdays / sims\n",
    "    return out"
   ]
  },
  {
   "cell_type": "code",
   "execution_count": 5,
   "metadata": {},
   "outputs": [
    {
     "name": "stdout",
     "output_type": "stream",
     "text": [
      "With 23 people, there's a 50% chance that two share a birthday.\n"
     ]
    }
   ],
   "source": [
    "# Break out of the loop if probability greater than 0.5\n",
    "while (people > 0):\n",
    "    prop_bds = birthday_sim(people)\n",
    "    if prop_bds > 0.50: \n",
    "        break\n",
    "    people += 1\n",
    "\n",
    "print(\"With {} people, there's a 50% chance that two share a birthday.\".format(people))"
   ]
  },
  {
   "cell_type": "markdown",
   "metadata": {},
   "source": [
    "## Full house\n",
    "Let's return to our poker game. Last time, we calculated the probability of getting at least two of a kind. This time we are interested in a full house. A full house is when you get two cards of different suits that share the same numeric value and three other cards that have the same numeric value (e.g., 2 of hearts & spades, jacks of clubs, diamonds, & spades).\n",
    "\n",
    "Thus, a full house is the probability of getting exactly three of a kind conditional on getting exactly two of a kind of another value. Using the same code as before, modify the success condition to get the desired output. This exercise will teach you to estimate conditional probabilities in card games and build your foundation in framing abstract problems for simulation."
   ]
  },
  {
   "cell_type": "code",
   "execution_count": 6,
   "metadata": {},
   "outputs": [
    {
     "name": "stdout",
     "output_type": "stream",
     "text": [
      "Probability of seeing a full house = 0.00154\n"
     ]
    }
   ],
   "source": [
    "#Shuffle deck & count card occurrences in the hand\n",
    "n_sims, full_house, deck_of_cards = 50000, 0, deck_of_cards.copy() \n",
    "for i in range(n_sims):\n",
    "    np.random.shuffle(deck_of_cards)\n",
    "    hand, cards_in_hand = deck_of_cards[0:5], {}\n",
    "    for card in hand:\n",
    "        # Use .get() method to count occurrences of each card\n",
    "        cards_in_hand[card[1]] = cards_in_hand.get(card[1], 0) + 1\n",
    "        \n",
    "    # Condition for getting full house\n",
    "    condition = (max(cards_in_hand.values()) ==3) & (min(cards_in_hand.values())==2)\n",
    "    if  condition == True: \n",
    "        full_house += 1\n",
    "print(\"Probability of seeing a full house = {}\".format(full_house/n_sims))"
   ]
  },
  {
   "cell_type": "markdown",
   "metadata": {},
   "source": [
    "# Data Generating Process\n"
   ]
  },
  {
   "cell_type": "markdown",
   "metadata": {},
   "source": [
    "## Driving test\n",
    "Through the next exercises, we will learn how to build a data generating process (DGP) through progressively complex examples.\n",
    "\n",
    "In this exercise, you will simulate a very simple DGP. Suppose that you are about to take a driving test tomorrow. Based on your own practice and based on data you have gathered, you know that the probability of you passing the test is 90% when it's sunny and only 30% when it's raining. Your local weather station forecasts that there's a 40% chance of rain tomorrow. Based on this information, you want to know what is the probability of you passing the driving test tomorrow.\n",
    "\n",
    "This is a simple problem and can be solved analytically. Here, you will learn how to model a simple DGP and see how it can be used for simulation."
   ]
  },
  {
   "cell_type": "code",
   "execution_count": 7,
   "metadata": {},
   "outputs": [],
   "source": [
    "sims, outcomes, p_rain, p_pass = 1000, [], 0.40, {'sun':0.9, 'rain':0.3}\n",
    "\n",
    "def test_outcome(p_rain):  \n",
    "    # Simulate whether it will rain or not\n",
    "    weather = np.random.choice(['rain', 'sun'], size=1, p=[p_rain, 1 - p_rain])\n",
    "    # Simulate and return whether you will pass or fail\n",
    "    return np.random.choice(['pass', 'fail'], size=1, p=[p_pass[weather[0]], 1 - p_pass[weather[0]]])"
   ]
  },
  {
   "cell_type": "code",
   "execution_count": 8,
   "metadata": {},
   "outputs": [
    {
     "name": "stdout",
     "output_type": "stream",
     "text": [
      "Probability of Passing the driving test = 0.671\n"
     ]
    }
   ],
   "source": [
    "for _ in range(sims):\n",
    "    outcomes.append(test_outcome(p_rain))\n",
    "\n",
    "# Calculate fraction of outcomes where you pass\n",
    "pass_outcomes_frac = (np.array(outcomes) == 'pass').mean() \n",
    "print(\"Probability of Passing the driving test = {}\".format(pass_outcomes_frac))"
   ]
  },
  {
   "cell_type": "markdown",
   "metadata": {},
   "source": [
    "## National elections\n",
    "This exercise will give you a taste of how you can model a DGP at different levels of complexity.\n",
    "\n",
    "Consider national elections in a country with two political parties - Red and Blue. This country has 50 states and the party that wins the most states wins the elections. You have the probability p of Red winning in each individual state and want to know the probability of Red winning nationally.\n",
    "\n",
    "Let's model the DGP to understand the distribution. Suppose the election outcome in each state follows a binomial distribution with probability p such that 0 indicates a loss for Red and 1 indicates a win. We then simulate a number of election outcomes. Finally, we can ask rich questions like what is the probability of Red winning less than 45% of the states?"
   ]
  },
  {
   "cell_type": "code",
   "execution_count": 9,
   "metadata": {},
   "outputs": [
    {
     "name": "stdout",
     "output_type": "stream",
     "text": [
      "Probability of Red winning in less than 45% of the states = 0.2\n"
     ]
    }
   ],
   "source": [
    "from data.chap1_data import p\n",
    "\n",
    "outcomes, sims, probs = [], 1000, np.array(p)\n",
    "\n",
    "for _ in range(sims):\n",
    "    # Simulate elections in the 50 states\n",
    "    election = np.random.binomial(p = probs, n=1)\n",
    "    # Get average of Red wins and add to `outcomes`\n",
    "    outcomes.append(election.mean())\n",
    "\n",
    "# Calculate probability of Red winning in less than 45% of the states\n",
    "prob_red_wins = (np.array(outcomes) < 0.45).mean()\n",
    "print(\"Probability of Red winning in less than 45% of the states = {}\".format(prob_red_wins))"
   ]
  },
  {
   "cell_type": "markdown",
   "metadata": {},
   "source": [
    "## Fitness goals\n",
    "Let's model how activity levels impact weight loss using modern fitness trackers. On days when you go to the gym, you average around 15k steps, and around 5k steps otherwise. You go to the gym 40% of the time. Let's model the step counts in a day as a Poisson random variable with a mean λ dependent on whether or not you go to the gym.\n",
    "\n",
    "For simplicity, let’s say you have an 80% chance of losing 1lb and a 20% chance of gaining 1lb when you get more than 10k steps. The probabilities are reversed when you get less than 8k steps. Otherwise, there's an even chance of gaining or losing 1lb. Given all this information, find the probability of losing weight in a month."
   ]
  },
  {
   "cell_type": "code",
   "execution_count": 10,
   "metadata": {},
   "outputs": [
    {
     "name": "stdout",
     "output_type": "stream",
     "text": [
      "Probability of Weight Loss = 0.184\n"
     ]
    }
   ],
   "source": [
    "outcomes, sims, days = [], 1000, 30\n",
    "\n",
    "# Simulate steps & choose prob \n",
    "for _ in range(sims):\n",
    "    w = []\n",
    "    for i in range(days):\n",
    "        lam = np.random.choice([5000, 15000], p=[0.6, 0.4], size=1)\n",
    "        steps = np.random.poisson(lam)\n",
    "        if steps > 10000: \n",
    "            prob = [0.2, 0.8]\n",
    "        elif steps < 8000: \n",
    "            prob = [0.8, 0.2]\n",
    "        else:\n",
    "            prob = [0.5, 0.5]\n",
    "        w.append(np.random.choice([1, -1], p=prob))\n",
    "    outcomes.append(sum(w))\n",
    "\n",
    "# Calculate fraction of outcomes where there was a weight loss\n",
    "weight_loss_outcomes_frac = (np.array(outcomes) <  0).mean()\n",
    "print(\"Probability of Weight Loss = {}\".format(weight_loss_outcomes_frac))"
   ]
  },
  {
   "cell_type": "markdown",
   "metadata": {},
   "source": [
    "## Sign up Flow\n",
    "We will now model the DGP of an eCommerce ad flow starting with sign-ups.\n",
    "\n",
    "On any day, we get many ad impressions, which can be modeled as Poisson random variables (RV). You are told that λ is normally distributed with a mean of 100k visitors and standard deviation 2000.\n",
    "\n",
    "During the signup journey, the customer sees an ad, decides whether or not to click, and then whether or not to signup. Thus both clicks and signups are binary, modeled using binomial RVs. What about probability p of success? Our current low-cost option gives us a click-through rate of 1% and a sign-up rate of 20%. A higher cost option could increase the clickthrough and signup rate by up to 20%, but we are unsure of the level of improvement, so we model it as a uniform RV."
   ]
  },
  {
   "cell_type": "code",
   "execution_count": 11,
   "metadata": {},
   "outputs": [
    {
     "name": "stdout",
     "output_type": "stream",
     "text": [
      "Simulated Signups = [202]\n"
     ]
    }
   ],
   "source": [
    "# Parameters\n",
    "hist_ctr, hist_sur, hight_rate = 0.01, 0.2, 1.2\n",
    "lambda_mean, lambda_std = 100000, 2000\n",
    "\n",
    "# Initialize click-through rate and signup rate dictionaries\n",
    "ct_rate = {'low':hist_ctr, 'high':np.random.uniform(low=hist_ctr, high=hight_rate*hist_ctr)}\n",
    "su_rate = {'low':hist_sur, 'high':np.random.uniform(low=hist_sur, high=hight_rate*hist_sur)}\n",
    "\n",
    "def get_signups(cost, ct_rate, su_rate, sims):\n",
    "    lam = np.random.normal(loc=lambda_mean, scale=lambda_std, size=sims)\n",
    "    # Simulate impressions(poisson), clicks(binomial) and signups(binomial)\n",
    "    impressions = np.random.poisson(lam)\n",
    "    clicks = np.random.binomial(n=impressions, p = ct_rate[cost])\n",
    "    signups = np.random.binomial(n=clicks, p = su_rate[cost])\n",
    "    return signups\n",
    "\n",
    "print(\"Simulated Signups = {}\".format(get_signups('high', ct_rate, su_rate, 1)))"
   ]
  },
  {
   "cell_type": "markdown",
   "metadata": {},
   "source": [
    "## Purchase Flow\n",
    "After signups, let's model the revenue generation process. Once the customer has signed up, they decide whether or not to purchase - a natural candidate for a binomial RV. Let's assume that 10% of signups result in a purchase.\n",
    "\n",
    "Although customers can make many purchases, let's assume one purchase. The purchase value could be modeled by any continuous RV, but one nice candidate is the exponential RV. Suppose we know that purchase value per customer has averaged around $1000. We use this information to create the purchase_values RV. The revenue, then, is simply the sum of all purchase values."
   ]
  },
  {
   "cell_type": "code",
   "execution_count": 12,
   "metadata": {},
   "outputs": [
    {
     "name": "stdout",
     "output_type": "stream",
     "text": [
      "Simulated Revenue = $22014.194422934448\n"
     ]
    }
   ],
   "source": [
    "# Parameters\n",
    "purchase_value_mean = 1000\n",
    "hist_purchase_rate = 0.10\n",
    "\n",
    "def get_revenue(signups):\n",
    "    rev = []\n",
    "    np.random.seed(123)\n",
    "    for s in signups:\n",
    "        # Model purchases as binomial, purchase_values as exponential\n",
    "        purchases = np.random.binomial(s, p=hist_purchase_rate)\n",
    "        purchase_values = np.random.exponential(scale=purchase_value_mean, size=purchases)\n",
    "        \n",
    "        # Append to revenue the sum of all purchase values.\n",
    "        rev.append(purchase_values.sum())\n",
    "    return rev\n",
    "\n",
    "print(\"Simulated Revenue = ${}\".format(get_revenue(get_signups('low', ct_rate, su_rate, 1))[0]))"
   ]
  },
  {
   "cell_type": "markdown",
   "metadata": {},
   "source": [
    "## Probability of losing money\n",
    "In this exercise, we will use the DGP model to estimate probability.\n",
    "\n",
    "As seen earlier, this company has the option of spending extra money, let's say \\\\$3000, to redesign the ad. This could potentially get them higher clickthrough and signup rates, but this is not guaranteed. We would like to know whether or not to spend this extra $3000 by calculating the probability of losing money. In other words, the probability that the revenue from the high-cost option minus the revenue from the low-cost option is lesser than the cost.\n",
    "\n",
    "Once we have simulated revenue outcomes, we can ask a rich set of questions that might not have been accessible using traditional analytical methods.\n",
    "\n",
    "This simple yet powerful framework forms the basis of Bayesian methods for getting probabilities."
   ]
  },
  {
   "cell_type": "code",
   "execution_count": 13,
   "metadata": {},
   "outputs": [
    {
     "name": "stdout",
     "output_type": "stream",
     "text": [
      "Probability of losing money = 0.4867\n"
     ]
    }
   ],
   "source": [
    "# Initialize cost_diff\n",
    "sims, cost_diff = 10000, 3000\n",
    "\n",
    "# Get revenue when the cost is 'low' and when the cost is 'high'\n",
    "rev_low = get_revenue(get_signups('low', ct_rate, su_rate, sims))\n",
    "rev_high = get_revenue(get_signups('high', ct_rate, su_rate, sims))\n",
    "\n",
    "# calculate fraction of times rev_high - rev_low is less than cost_diff\n",
    "frac = ((np.array(rev_high) - np.array(rev_low)) < cost_diff).mean()\n",
    "print(\"Probability of losing money = {}\".format(frac))"
   ]
  }
 ],
 "metadata": {
  "kernelspec": {
   "display_name": "Python 3",
   "language": "python",
   "name": "python3"
  },
  "language_info": {
   "codemirror_mode": {
    "name": "ipython",
    "version": 3
   },
   "file_extension": ".py",
   "mimetype": "text/x-python",
   "name": "python",
   "nbconvert_exporter": "python",
   "pygments_lexer": "ipython3",
   "version": "3.7.2"
  }
 },
 "nbformat": 4,
 "nbformat_minor": 2
}
